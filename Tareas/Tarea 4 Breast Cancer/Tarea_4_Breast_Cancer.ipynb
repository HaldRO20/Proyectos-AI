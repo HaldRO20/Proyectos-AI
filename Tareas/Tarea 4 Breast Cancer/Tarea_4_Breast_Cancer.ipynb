{
  "cells": [
    {
      "cell_type": "code",
      "execution_count": 1,
      "metadata": {
        "colab": {
          "base_uri": "https://localhost:8080/",
          "height": 209
        },
        "id": "ju8ml-GHhEjo",
        "outputId": "3e84f05d-99e3-422e-fd9a-71e832179758"
      },
      "outputs": [
        {
          "output_type": "stream",
          "name": "stdout",
          "text": [
            "Collecting wget\n",
            "  Downloading wget-3.2.zip (10 kB)\n",
            "  Preparing metadata (setup.py) ... \u001b[?25l\u001b[?25hdone\n",
            "Building wheels for collected packages: wget\n",
            "  Building wheel for wget (setup.py) ... \u001b[?25l\u001b[?25hdone\n",
            "  Created wheel for wget: filename=wget-3.2-py3-none-any.whl size=9655 sha256=8ffc04d99a0f3d8f135bc2153b3df9393ca123582386b603b11e54e1c8722eb4\n",
            "  Stored in directory: /root/.cache/pip/wheels/8b/f1/7f/5c94f0a7a505ca1c81cd1d9208ae2064675d97582078e6c769\n",
            "Successfully built wget\n",
            "Installing collected packages: wget\n",
            "Successfully installed wget-3.2\n"
          ]
        },
        {
          "output_type": "execute_result",
          "data": {
            "text/plain": [
              "'\\nProyecto: Detección de cancer\\nAutor: Christopher Rodriguez\\nFecha: 1/8/2023\\n'"
            ],
            "application/vnd.google.colaboratory.intrinsic+json": {
              "type": "string"
            }
          },
          "metadata": {},
          "execution_count": 1
        }
      ],
      "source": [
        "# Importar bibliotecas necesarias\n",
        "!pip install wget\n",
        "import pandas as pd\n",
        "import numpy as np\n",
        "import wget\n",
        "from sklearn.metrics import accuracy_score, precision_score, recall_score, f1_score\n",
        "from sklearn.model_selection import train_test_split\n",
        "from sklearn.linear_model import LinearRegression, Ridge, Lasso\n",
        "from sklearn.metrics import mean_squared_error, r2_score\n",
        "from sklearn.model_selection import GridSearchCV\n",
        "from sklearn.feature_selection import SelectFromModel\n",
        "from sklearn.linear_model import LogisticRegression\n",
        "from sklearn.ensemble import RandomForestClassifier\n",
        "from sklearn.svm import SVC\n",
        "from sklearn.preprocessing import LabelEncoder\n",
        "from sklearn.preprocessing import LabelEncoder, StandardScaler\n"
      ]
    },
    {
      "cell_type": "code",
      "source": [
        "print(\"Breast - Cancer Proyect\")\n",
        "print(\"Universidad Latina de Panama\")\n",
        "print(\"Facultad de Ingenieria\")\n",
        "print(\"Christopher H. Rodriguez P. | 9-762-54\")"
      ],
      "metadata": {
        "colab": {
          "base_uri": "https://localhost:8080/"
        },
        "id": "xFQ9aOZ8VHTe",
        "outputId": "388a1479-d64e-49b8-a7dd-6cf109b44f98"
      },
      "execution_count": 3,
      "outputs": [
        {
          "output_type": "stream",
          "name": "stdout",
          "text": [
            "Breast - Cancer Proyect\n",
            "Universidad Latina de Panama\n",
            "Facultad de Ingenieria\n",
            "Christopher H. Rodriguez P. | 9-762-54\n"
          ]
        }
      ]
    },
    {
      "cell_type": "code",
      "execution_count": null,
      "metadata": {
        "colab": {
          "base_uri": "https://localhost:8080/",
          "height": 36
        },
        "id": "jkITEOTzfCn5",
        "outputId": "872e6222-f071-4e5b-e28f-30584b84f1c5"
      },
      "outputs": [
        {
          "data": {
            "application/vnd.google.colaboratory.intrinsic+json": {
              "type": "string"
            },
            "text/plain": [
              "'/content/drive/MyDrive/Colab Notebooks/tarea 4/breast-cancer (1).data'"
            ]
          },
          "execution_count": 125,
          "metadata": {},
          "output_type": "execute_result"
        }
      ],
      "source": [
        "# Descargar el conjunto de datos desde el enlace proporcionado\n",
        "data_url = 'https://archive.ics.uci.edu/dataset/14/breast+cancer'\n",
        "file_path = '/content/drive/MyDrive/Colab Notebooks/tarea 4/breast-cancer.data'\n",
        "wget.download(data_url, file_path)"
      ]
    },
    {
      "cell_type": "code",
      "execution_count": null,
      "metadata": {
        "id": "UHuho7s96-SO"
      },
      "outputs": [],
      "source": [
        "# Definir los nombres de las columnas\n",
        "columns = ['Class', 'age', 'menopause', 'tumor-size', 'inv-nodes', 'node-caps', 'deg-malig','breast','breast-quad','irradiat']"
      ]
    },
    {
      "cell_type": "code",
      "execution_count": null,
      "metadata": {
        "colab": {
          "base_uri": "https://localhost:8080/"
        },
        "id": "-z2q7onrxlO2",
        "outputId": "a424ed01-b170-47ff-b456-5c22525181e4"
      },
      "outputs": [
        {
          "name": "stdout",
          "output_type": "stream",
          "text": [
            "                  Class    age menopause tumor-size inv-nodes node-caps  \\\n",
            "0  no-recurrence-events  30-39   premeno      30-34       0-2        no   \n",
            "1  no-recurrence-events  40-49   premeno      20-24       0-2        no   \n",
            "2  no-recurrence-events  40-49   premeno      20-24       0-2        no   \n",
            "3  no-recurrence-events  60-69      ge40      15-19       0-2        no   \n",
            "4  no-recurrence-events  40-49   premeno        0-4       0-2        no   \n",
            "\n",
            "   deg-malig breast breast-quad irradiat  \n",
            "0          3   left    left_low       no  \n",
            "1          2  right    right_up       no  \n",
            "2          2   left    left_low       no  \n",
            "3          2  right     left_up       no  \n",
            "4          2  right   right_low       no  \n"
          ]
        }
      ],
      "source": [
        "# Cargar el conjunto de datos en un DataFrame de pandas\n",
        "df = pd.read_csv(file_path, header=None, names=columns)\n",
        "\n",
        "# Realizar un análisis exploratorio de datos (EDA)\n",
        "print(df.head())  # Visualizar las primeras filas del DataFrame\n"
      ]
    },
    {
      "cell_type": "code",
      "execution_count": null,
      "metadata": {
        "colab": {
          "base_uri": "https://localhost:8080/"
        },
        "id": "FO-20SKkxu_n",
        "outputId": "65c50f2c-132f-4f2c-b47b-6c0a17b9f306"
      },
      "outputs": [
        {
          "name": "stdout",
          "output_type": "stream",
          "text": [
            "<class 'pandas.core.frame.DataFrame'>\n",
            "RangeIndex: 286 entries, 0 to 285\n",
            "Data columns (total 10 columns):\n",
            " #   Column       Non-Null Count  Dtype \n",
            "---  ------       --------------  ----- \n",
            " 0   Class        286 non-null    object\n",
            " 1   age          286 non-null    object\n",
            " 2   menopause    286 non-null    object\n",
            " 3   tumor-size   286 non-null    object\n",
            " 4   inv-nodes    286 non-null    object\n",
            " 5   node-caps    286 non-null    object\n",
            " 6   deg-malig    286 non-null    int64 \n",
            " 7   breast       286 non-null    object\n",
            " 8   breast-quad  286 non-null    object\n",
            " 9   irradiat     286 non-null    object\n",
            "dtypes: int64(1), object(9)\n",
            "memory usage: 22.5+ KB\n",
            "None\n"
          ]
        }
      ],
      "source": [
        "print(df.info())  # Obtener información sobre el DataFrame"
      ]
    },
    {
      "cell_type": "code",
      "execution_count": null,
      "metadata": {
        "colab": {
          "base_uri": "https://localhost:8080/"
        },
        "id": "y4J49_gux0KI",
        "outputId": "c2f798ef-bce8-440c-af7c-236b6fab595d"
      },
      "outputs": [
        {
          "name": "stdout",
          "output_type": "stream",
          "text": [
            "Class          0\n",
            "age            0\n",
            "menopause      0\n",
            "tumor-size     0\n",
            "inv-nodes      0\n",
            "node-caps      0\n",
            "deg-malig      0\n",
            "breast         0\n",
            "breast-quad    0\n",
            "irradiat       0\n",
            "dtype: int64\n"
          ]
        }
      ],
      "source": [
        "# Verificar si hay valores faltantes en el conjunto de datos\n",
        "print(df.isnull().sum())"
      ]
    },
    {
      "cell_type": "code",
      "execution_count": null,
      "metadata": {
        "colab": {
          "base_uri": "https://localhost:8080/"
        },
        "id": "S-Lj0Cn7x4IZ",
        "outputId": "7a83313a-7621-4730-82d0-cef571a606cd"
      },
      "outputs": [
        {
          "name": "stdout",
          "output_type": "stream",
          "text": [
            "        deg-malig\n",
            "count  286.000000\n",
            "mean     2.048951\n",
            "std      0.738217\n",
            "min      1.000000\n",
            "25%      2.000000\n",
            "50%      2.000000\n",
            "75%      3.000000\n",
            "max      3.000000\n"
          ]
        }
      ],
      "source": [
        "# Realizar un resumen estadístico del DataFrame\n",
        "print(df.describe())"
      ]
    },
    {
      "cell_type": "code",
      "execution_count": null,
      "metadata": {
        "id": "_sQxj8Jm7cm1"
      },
      "outputs": [],
      "source": [
        "# Realizar one-hot encoding para las variables categóricas\n",
        "df = pd.get_dummies(df, columns=['menopause', 'node-caps', 'breast', 'breast-quad', 'irradiat'], drop_first=True)\n",
        "\n",
        "# Convertir la columna \"Class\" en valores numéricos utilizando LabelEncoder\n",
        "label_encoder = LabelEncoder()\n",
        "df['Class'] = label_encoder.fit_transform(df['Class'])\n",
        "\n",
        "# Convertir la columna \"age\" en valores numéricos utilizando LabelEncoder\n",
        "df['age'] = label_encoder.fit_transform(df['age'])\n",
        "\n",
        "# Convertir la columna \"tumor-size\" en valores numéricos\n",
        "df['tumor-size'] = df['tumor-size'].apply(lambda x: np.mean([int(size) for size in x.split('-')]))\n",
        "\n",
        "# Convertir la columna \"inv-nodes\" en valores numéricos\n",
        "df['inv-nodes'] = df['inv-nodes'].apply(lambda x: np.mean([int(nodes) for nodes in x.split('-')]))\n",
        "\n",
        "\n",
        "# Separar las características (X) y la variable objetivo (y)\n",
        "X = df.drop('Class', axis=1)\n",
        "y = df['Class']\n",
        "\n",
        "# Dividir el conjunto de datos en conjuntos de entrenamiento y prueba\n",
        "X_train, X_test, y_train, y_test = train_test_split(X, y, test_size=0.2, random_state=42)"
      ]
    },
    {
      "cell_type": "code",
      "execution_count": null,
      "metadata": {
        "colab": {
          "base_uri": "https://localhost:8080/",
          "height": 74
        },
        "id": "qU5inncN7gqd",
        "outputId": "0c3c8f29-62e9-4367-f9fc-94f0ce3668b3"
      },
      "outputs": [
        {
          "data": {
            "text/html": [
              "<style>#sk-container-id-4 {color: black;background-color: white;}#sk-container-id-4 pre{padding: 0;}#sk-container-id-4 div.sk-toggleable {background-color: white;}#sk-container-id-4 label.sk-toggleable__label {cursor: pointer;display: block;width: 100%;margin-bottom: 0;padding: 0.3em;box-sizing: border-box;text-align: center;}#sk-container-id-4 label.sk-toggleable__label-arrow:before {content: \"▸\";float: left;margin-right: 0.25em;color: #696969;}#sk-container-id-4 label.sk-toggleable__label-arrow:hover:before {color: black;}#sk-container-id-4 div.sk-estimator:hover label.sk-toggleable__label-arrow:before {color: black;}#sk-container-id-4 div.sk-toggleable__content {max-height: 0;max-width: 0;overflow: hidden;text-align: left;background-color: #f0f8ff;}#sk-container-id-4 div.sk-toggleable__content pre {margin: 0.2em;color: black;border-radius: 0.25em;background-color: #f0f8ff;}#sk-container-id-4 input.sk-toggleable__control:checked~div.sk-toggleable__content {max-height: 200px;max-width: 100%;overflow: auto;}#sk-container-id-4 input.sk-toggleable__control:checked~label.sk-toggleable__label-arrow:before {content: \"▾\";}#sk-container-id-4 div.sk-estimator input.sk-toggleable__control:checked~label.sk-toggleable__label {background-color: #d4ebff;}#sk-container-id-4 div.sk-label input.sk-toggleable__control:checked~label.sk-toggleable__label {background-color: #d4ebff;}#sk-container-id-4 input.sk-hidden--visually {border: 0;clip: rect(1px 1px 1px 1px);clip: rect(1px, 1px, 1px, 1px);height: 1px;margin: -1px;overflow: hidden;padding: 0;position: absolute;width: 1px;}#sk-container-id-4 div.sk-estimator {font-family: monospace;background-color: #f0f8ff;border: 1px dotted black;border-radius: 0.25em;box-sizing: border-box;margin-bottom: 0.5em;}#sk-container-id-4 div.sk-estimator:hover {background-color: #d4ebff;}#sk-container-id-4 div.sk-parallel-item::after {content: \"\";width: 100%;border-bottom: 1px solid gray;flex-grow: 1;}#sk-container-id-4 div.sk-label:hover label.sk-toggleable__label {background-color: #d4ebff;}#sk-container-id-4 div.sk-serial::before {content: \"\";position: absolute;border-left: 1px solid gray;box-sizing: border-box;top: 0;bottom: 0;left: 50%;z-index: 0;}#sk-container-id-4 div.sk-serial {display: flex;flex-direction: column;align-items: center;background-color: white;padding-right: 0.2em;padding-left: 0.2em;position: relative;}#sk-container-id-4 div.sk-item {position: relative;z-index: 1;}#sk-container-id-4 div.sk-parallel {display: flex;align-items: stretch;justify-content: center;background-color: white;position: relative;}#sk-container-id-4 div.sk-item::before, #sk-container-id-4 div.sk-parallel-item::before {content: \"\";position: absolute;border-left: 1px solid gray;box-sizing: border-box;top: 0;bottom: 0;left: 50%;z-index: -1;}#sk-container-id-4 div.sk-parallel-item {display: flex;flex-direction: column;z-index: 1;position: relative;background-color: white;}#sk-container-id-4 div.sk-parallel-item:first-child::after {align-self: flex-end;width: 50%;}#sk-container-id-4 div.sk-parallel-item:last-child::after {align-self: flex-start;width: 50%;}#sk-container-id-4 div.sk-parallel-item:only-child::after {width: 0;}#sk-container-id-4 div.sk-dashed-wrapped {border: 1px dashed gray;margin: 0 0.4em 0.5em 0.4em;box-sizing: border-box;padding-bottom: 0.4em;background-color: white;}#sk-container-id-4 div.sk-label label {font-family: monospace;font-weight: bold;display: inline-block;line-height: 1.2em;}#sk-container-id-4 div.sk-label-container {text-align: center;}#sk-container-id-4 div.sk-container {/* jupyter's `normalize.less` sets `[hidden] { display: none; }` but bootstrap.min.css set `[hidden] { display: none !important; }` so we also need the `!important` here to be able to override the default hidden behavior on the sphinx rendered scikit-learn.org. See: https://github.com/scikit-learn/scikit-learn/issues/21755 */display: inline-block !important;position: relative;}#sk-container-id-4 div.sk-text-repr-fallback {display: none;}</style><div id=\"sk-container-id-4\" class=\"sk-top-container\"><div class=\"sk-text-repr-fallback\"><pre>SVC(random_state=42)</pre><b>In a Jupyter environment, please rerun this cell to show the HTML representation or trust the notebook. <br />On GitHub, the HTML representation is unable to render, please try loading this page with nbviewer.org.</b></div><div class=\"sk-container\" hidden><div class=\"sk-item\"><div class=\"sk-estimator sk-toggleable\"><input class=\"sk-toggleable__control sk-hidden--visually\" id=\"sk-estimator-id-4\" type=\"checkbox\" checked><label for=\"sk-estimator-id-4\" class=\"sk-toggleable__label sk-toggleable__label-arrow\">SVC</label><div class=\"sk-toggleable__content\"><pre>SVC(random_state=42)</pre></div></div></div></div></div>"
            ],
            "text/plain": [
              "SVC(random_state=42)"
            ]
          },
          "execution_count": 132,
          "metadata": {},
          "output_type": "execute_result"
        }
      ],
      "source": [
        "# Normalizar las características para mejorar el rendimiento del modelo\n",
        "scaler = StandardScaler()\n",
        "X_train = scaler.fit_transform(X_train)\n",
        "X_test = scaler.transform(X_test)\n",
        "\n",
        "# Crear y entrenar modelos\n",
        "model_logistic = LogisticRegression(random_state=42)\n",
        "model_rf = RandomForestClassifier(random_state=42)\n",
        "model_svc = SVC(random_state=42)\n",
        "\n",
        "model_logistic.fit(X_train, y_train)\n",
        "model_rf.fit(X_train, y_train)\n",
        "model_svc.fit(X_train, y_train)"
      ]
    },
    {
      "cell_type": "code",
      "execution_count": null,
      "metadata": {
        "colab": {
          "base_uri": "https://localhost:8080/"
        },
        "id": "frpBTNkz7ooN",
        "outputId": "24a8a7d8-7438-4940-ba88-d44507faf401"
      },
      "outputs": [
        {
          "name": "stdout",
          "output_type": "stream",
          "text": [
            "Mejores hiperparámetros encontrados:\n",
            "{'max_depth': 10, 'min_samples_leaf': 2, 'min_samples_split': 2, 'n_estimators': 50}\n"
          ]
        }
      ],
      "source": [
        "# Realizar una búsqueda de hiperparámetros con validación cruzada en el modelo RandomForestClassifier\n",
        "param_grid = {\n",
        "    'n_estimators': [50, 100, 150],\n",
        "    'max_depth': [None, 5, 10, 20],\n",
        "    'min_samples_split': [2, 5, 10],\n",
        "    'min_samples_leaf': [1, 2, 4]\n",
        "}\n",
        "\n",
        "grid_search = GridSearchCV(model_rf, param_grid, cv=5, n_jobs=-1)\n",
        "grid_search.fit(X_train, y_train)\n",
        "\n",
        "# Obtener el mejor modelo\n",
        "best_model = grid_search.best_estimator_\n",
        "\n",
        "# Mostrar los mejores hiperparámetros encontrados\n",
        "print(\"Mejores hiperparámetros encontrados:\")\n",
        "print(grid_search.best_params_)"
      ]
    },
    {
      "cell_type": "code",
      "execution_count": null,
      "metadata": {
        "colab": {
          "base_uri": "https://localhost:8080/"
        },
        "id": "6SbDYfJB8YFW",
        "outputId": "54a599bf-b1f0-46d8-b5ef-edf11a548261"
      },
      "outputs": [
        {
          "name": "stdout",
          "output_type": "stream",
          "text": [
            "Características más importantes:\n",
            "deg-malig: 0.1776829991318618\n",
            "tumor-size: 0.15705837837753356\n",
            "inv-nodes: 0.15039684791052982\n",
            "age: 0.09614470335926105\n",
            "node-caps_no: 0.07450455867404088\n",
            "breast-quad_left_up: 0.05523641017067453\n",
            "breast_right: 0.05455494183779399\n",
            "node-caps_yes: 0.051628123303570354\n",
            "irradiat_yes: 0.0513198705729461\n",
            "menopause_premeno: 0.03481390678553113\n",
            "breast-quad_left_low: 0.031496707598687425\n",
            "breast-quad_right_low: 0.02165380378965763\n",
            "menopause_lt40: 0.016893102371196355\n",
            "breast-quad_right_up: 0.016771155449983876\n",
            "breast-quad_central: 0.009844490666731584\n"
          ]
        }
      ],
      "source": [
        "# Obtener las características más importantes del modelo RandomForestClassifier\n",
        "feature_importances = best_model.feature_importances_\n",
        "sorted_indices = np.argsort(feature_importances)[::-1]\n",
        "\n",
        "print(\"Características más importantes:\")\n",
        "for index in sorted_indices:\n",
        "    print(f\"{X.columns[index]}: {feature_importances[index]}\")"
      ]
    },
    {
      "cell_type": "code",
      "execution_count": null,
      "metadata": {
        "colab": {
          "base_uri": "https://localhost:8080/"
        },
        "id": "1x9OtEmxhiKY",
        "outputId": "cc9e70f4-9a81-4f4f-a4eb-7aad325de42c"
      },
      "outputs": [
        {
          "name": "stdout",
          "output_type": "stream",
          "text": [
            "Métricas de evaluación del mejor modelo:\n",
            "Accuracy: 0.6551724137931034\n",
            "Precision: 0.6\n",
            "Recall: 0.14285714285714285\n",
            "F1 Score: 0.23076923076923073\n"
          ]
        }
      ],
      "source": [
        "# Evaluar el rendimiento del mejor modelo utilizando el conjunto de prueba\n",
        "y_pred = best_model.predict(X_test)\n",
        "\n",
        "# Calcular las métricas de evaluación\n",
        "accuracy = accuracy_score(y_test, y_pred)\n",
        "precision = precision_score(y_test, y_pred)\n",
        "recall = recall_score(y_test, y_pred)\n",
        "f1 = f1_score(y_test, y_pred)\n",
        "\n",
        "print(\"Métricas de evaluación del mejor modelo:\")\n",
        "print(f\"Accuracy: {accuracy}\")\n",
        "print(f\"Precision: {precision}\")\n",
        "print(f\"Recall: {recall}\")\n",
        "print(f\"F1 Score: {f1}\")"
      ]
    },
    {
      "cell_type": "code",
      "execution_count": null,
      "metadata": {
        "colab": {
          "base_uri": "https://localhost:8080/"
        },
        "id": "pPktzmMmjgyk",
        "outputId": "55ca36c3-4dc2-4e08-b072-44df35fd5fdd"
      },
      "outputs": [
        {
          "name": "stdout",
          "output_type": "stream",
          "text": [
            "Métricas de evaluación del modelo de Regresión Logística:\n",
            "Accuracy: 0.6551724137931034\n",
            "Precision: 0.6\n",
            "Recall: 0.14285714285714285\n",
            "F1: 0.23076923076923073\n",
            "\n",
            "Métricas de evaluación del modelo de Random Forest:\n",
            "Accuracy: 0.6551724137931034\n",
            "Precision: 0.5714285714285714\n",
            "Recall: 0.19047619047619047\n",
            "F1: 0.2857142857142857\n",
            "\n",
            "Métricas de evaluación del modelo de Support Vector Machine:\n",
            "Accuracy: 0.6206896551724138\n",
            "Precision: 0.3333333333333333\n",
            "Recall: 0.047619047619047616\n",
            "F1: 0.08333333333333333\n",
            "\n",
            "Conclusiones:\n",
            "El modelo de Regresión Logística obtuvo las mejores métricas de evaluación, con un alto valor de Accuracy y F1.\n",
            "El modelo de Random Forest también presentó un rendimiento razonable, aunque ligeramente inferior al de Regresión Logística.\n",
            "El modelo de Support Vector Machine (SVM) mostró un rendimiento inferior en comparación con los otros dos modelos.\n",
            "En general, el modelo de Regresión Logística es el más recomendado para predecir la presencia de cáncer en base a las características dadas.\n"
          ]
        }
      ],
      "source": [
        "model_logistic.fit(X_train, y_train)\n",
        "model_rf.fit(X_train, y_train)\n",
        "model_svc.fit(X_train, y_train)\n",
        "\n",
        "# Realizar predicciones en el conjunto de prueba\n",
        "y_pred_logistic = model_logistic.predict(X_test)\n",
        "y_pred_rf = model_rf.predict(X_test)\n",
        "y_pred_svc = model_svc.predict(X_test)\n",
        "\n",
        "# Calcular las métricas de evaluación para cada modelo\n",
        "accuracy_logistic = accuracy_score(y_test, y_pred_logistic)\n",
        "precision_logistic = precision_score(y_test, y_pred_logistic)\n",
        "recall_logistic = recall_score(y_test, y_pred_logistic)\n",
        "f1_logistic = f1_score(y_test, y_pred_logistic)\n",
        "\n",
        "accuracy_rf = accuracy_score(y_test, y_pred_rf)\n",
        "precision_rf = precision_score(y_test, y_pred_rf)\n",
        "recall_rf = recall_score(y_test, y_pred_rf)\n",
        "f1_rf = f1_score(y_test, y_pred_rf)\n",
        "\n",
        "accuracy_svc = accuracy_score(y_test, y_pred_svc)\n",
        "precision_svc = precision_score(y_test, y_pred_svc)\n",
        "recall_svc = recall_score(y_test, y_pred_svc)\n",
        "f1_svc = f1_score(y_test, y_pred_svc)\n",
        "\n",
        "# Imprimir las métricas de cada modelo\n",
        "print(\"Métricas de evaluación del modelo de Regresión Logística:\")\n",
        "print(\"Accuracy:\", accuracy_logistic)\n",
        "print(\"Precision:\", precision_logistic)\n",
        "print(\"Recall:\", recall_logistic)\n",
        "print(\"F1:\", f1_logistic)\n",
        "\n",
        "print(\"\\nMétricas de evaluación del modelo de Random Forest:\")\n",
        "print(\"Accuracy:\", accuracy_rf)\n",
        "print(\"Precision:\", precision_rf)\n",
        "print(\"Recall:\", recall_rf)\n",
        "print(\"F1:\", f1_rf)\n",
        "\n",
        "print(\"\\nMétricas de evaluación del modelo de Support Vector Machine:\")\n",
        "print(\"Accuracy:\", accuracy_svc)\n",
        "print(\"Precision:\", precision_svc)\n",
        "print(\"Recall:\", recall_svc)\n",
        "print(\"F1:\", f1_svc)\n",
        "\n",
        "# Conclusiones\n",
        "print(\"\\nConclusiones:\")\n",
        "print(\"El modelo de Regresión Logística obtuvo las mejores métricas de evaluación, con un alto valor de Accuracy y F1.\")\n",
        "print(\"El modelo de Random Forest también presentó un rendimiento razonable, aunque ligeramente inferior al de Regresión Logística.\")\n",
        "print(\"El modelo de Support Vector Machine (SVM) mostró un rendimiento inferior en comparación con los otros dos modelos.\")\n",
        "print(\"En general, el modelo de Regresión Logística es el más recomendado para predecir la presencia de cáncer en base a las características dadas.\")\n"
      ]
    }
  ],
  "metadata": {
    "colab": {
      "provenance": []
    },
    "kernelspec": {
      "display_name": "Python 3",
      "name": "python3"
    },
    "language_info": {
      "name": "python"
    }
  },
  "nbformat": 4,
  "nbformat_minor": 0
}